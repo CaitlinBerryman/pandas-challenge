{
 "metadata": {
  "language_info": {
   "codemirror_mode": {
    "name": "ipython",
    "version": 3
   },
   "file_extension": ".py",
   "mimetype": "text/x-python",
   "name": "python",
   "nbconvert_exporter": "python",
   "pygments_lexer": "ipython3",
   "version": "3.8.8"
  },
  "orig_nbformat": 4,
  "kernelspec": {
   "name": "python3",
   "display_name": "Python 3.8.8 64-bit ('base': conda)"
  },
  "interpreter": {
   "hash": "b1e877af2ce5b97b3d226cb48028a904638d81eab672e6458d4fcce3c875dd02"
  }
 },
 "nbformat": 4,
 "nbformat_minor": 2,
 "cells": [
  {
   "cell_type": "code",
   "execution_count": 2,
   "metadata": {},
   "outputs": [],
   "source": [
    "# import module\n",
    "import pandas as pd"
   ]
  },
  {
   "cell_type": "code",
   "execution_count": 3,
   "metadata": {},
   "outputs": [
    {
     "output_type": "execute_result",
     "data": {
      "text/plain": [
       "   Purchase ID             SN  Age Gender  Item ID  \\\n",
       "0            0        Lisim78   20   Male      108   \n",
       "1            1    Lisovynya38   40   Male      143   \n",
       "2            2     Ithergue48   24   Male       92   \n",
       "3            3  Chamassasya86   24   Male      100   \n",
       "4            4      Iskosia90   23   Male      131   \n",
       "\n",
       "                                   Item Name  Price  \n",
       "0  Extraction, Quickblade Of Trembling Hands   3.53  \n",
       "1                          Frenzied Scimitar   1.56  \n",
       "2                               Final Critic   4.88  \n",
       "3                                Blindscythe   3.27  \n",
       "4                                       Fury   1.44  "
      ],
      "text/html": "<div>\n<style scoped>\n    .dataframe tbody tr th:only-of-type {\n        vertical-align: middle;\n    }\n\n    .dataframe tbody tr th {\n        vertical-align: top;\n    }\n\n    .dataframe thead th {\n        text-align: right;\n    }\n</style>\n<table border=\"1\" class=\"dataframe\">\n  <thead>\n    <tr style=\"text-align: right;\">\n      <th></th>\n      <th>Purchase ID</th>\n      <th>SN</th>\n      <th>Age</th>\n      <th>Gender</th>\n      <th>Item ID</th>\n      <th>Item Name</th>\n      <th>Price</th>\n    </tr>\n  </thead>\n  <tbody>\n    <tr>\n      <th>0</th>\n      <td>0</td>\n      <td>Lisim78</td>\n      <td>20</td>\n      <td>Male</td>\n      <td>108</td>\n      <td>Extraction, Quickblade Of Trembling Hands</td>\n      <td>3.53</td>\n    </tr>\n    <tr>\n      <th>1</th>\n      <td>1</td>\n      <td>Lisovynya38</td>\n      <td>40</td>\n      <td>Male</td>\n      <td>143</td>\n      <td>Frenzied Scimitar</td>\n      <td>1.56</td>\n    </tr>\n    <tr>\n      <th>2</th>\n      <td>2</td>\n      <td>Ithergue48</td>\n      <td>24</td>\n      <td>Male</td>\n      <td>92</td>\n      <td>Final Critic</td>\n      <td>4.88</td>\n    </tr>\n    <tr>\n      <th>3</th>\n      <td>3</td>\n      <td>Chamassasya86</td>\n      <td>24</td>\n      <td>Male</td>\n      <td>100</td>\n      <td>Blindscythe</td>\n      <td>3.27</td>\n    </tr>\n    <tr>\n      <th>4</th>\n      <td>4</td>\n      <td>Iskosia90</td>\n      <td>23</td>\n      <td>Male</td>\n      <td>131</td>\n      <td>Fury</td>\n      <td>1.44</td>\n    </tr>\n  </tbody>\n</table>\n</div>"
     },
     "metadata": {},
     "execution_count": 3
    }
   ],
   "source": [
    "# set up csv read path\n",
    "df = pd.read_csv(\"purchase_data.csv\")\n",
    "df.head()"
   ]
  },
  {
   "cell_type": "code",
   "execution_count": 4,
   "metadata": {},
   "outputs": [
    {
     "output_type": "execute_result",
     "data": {
      "text/plain": [
       "   Total Players\n",
       "0            576"
      ],
      "text/html": "<div>\n<style scoped>\n    .dataframe tbody tr th:only-of-type {\n        vertical-align: middle;\n    }\n\n    .dataframe tbody tr th {\n        vertical-align: top;\n    }\n\n    .dataframe thead th {\n        text-align: right;\n    }\n</style>\n<table border=\"1\" class=\"dataframe\">\n  <thead>\n    <tr style=\"text-align: right;\">\n      <th></th>\n      <th>Total Players</th>\n    </tr>\n  </thead>\n  <tbody>\n    <tr>\n      <th>0</th>\n      <td>576</td>\n    </tr>\n  </tbody>\n</table>\n</div>"
     },
     "metadata": {},
     "execution_count": 4
    }
   ],
   "source": [
    "# total players\n",
    "totalplayers = len(df[\"SN\"].unique())\n",
    "df_totalplayers = pd.DataFrame({\"Total Players\":[totalplayers]})\n",
    "df_totalplayers"
   ]
  },
  {
   "cell_type": "code",
   "execution_count": 5,
   "metadata": {},
   "outputs": [
    {
     "output_type": "execute_result",
     "data": {
      "text/plain": [
       "   Number of Unique Items Average Price  Number of Purchases Total Revenue\n",
       "0                     179         $3.05                  780      $2379.77"
      ],
      "text/html": "<div>\n<style scoped>\n    .dataframe tbody tr th:only-of-type {\n        vertical-align: middle;\n    }\n\n    .dataframe tbody tr th {\n        vertical-align: top;\n    }\n\n    .dataframe thead th {\n        text-align: right;\n    }\n</style>\n<table border=\"1\" class=\"dataframe\">\n  <thead>\n    <tr style=\"text-align: right;\">\n      <th></th>\n      <th>Number of Unique Items</th>\n      <th>Average Price</th>\n      <th>Number of Purchases</th>\n      <th>Total Revenue</th>\n    </tr>\n  </thead>\n  <tbody>\n    <tr>\n      <th>0</th>\n      <td>179</td>\n      <td>$3.05</td>\n      <td>780</td>\n      <td>$2379.77</td>\n    </tr>\n  </tbody>\n</table>\n</div>"
     },
     "metadata": {},
     "execution_count": 5
    }
   ],
   "source": [
    "# obtain values for: number of unique items; average price; number of purchases; total revenue\n",
    "\n",
    "unique_items = len(df[\"Item Name\"].unique())\n",
    "# unique_items\n",
    "\n",
    "average_price = round(df[\"Price\"].mean(),2)\n",
    "# average_price\n",
    "\n",
    "purchase_number = len(df)\n",
    "# purchase_number\n",
    "\n",
    "total_revenue = df[\"Price\"].sum()\n",
    "# total_revenue\n",
    "\n",
    "summary_basic = pd.DataFrame({\n",
    "    \"Number of Unique Items\": [unique_items],\n",
    "    \"Average Price\": [average_price],\n",
    "    \"Number of Purchases\": [purchase_number],\n",
    "    \"Total Revenue\": [total_revenue]\n",
    "})\n",
    "\n",
    "# map $ to money values\n",
    "summary_basic[\"Average Price\"] = summary_basic[\"Average Price\"].map(\"${:.2f}\".format)\n",
    "summary_basic[\"Total Revenue\"] = summary_basic[\"Total Revenue\"].map(\"${:.2f}\".format)\n",
    "\n",
    "summary_basic"
   ]
  },
  {
   "cell_type": "code",
   "execution_count": 6,
   "metadata": {},
   "outputs": [
    {
     "output_type": "execute_result",
     "data": {
      "text/plain": [
       "                       Total Count Percentage of Players\n",
       "Gender                                                  \n",
       "Male                           484                84.03%\n",
       "Female                          81                14.06%\n",
       "Other / Non-Disclosed           11                 1.91%"
      ],
      "text/html": "<div>\n<style scoped>\n    .dataframe tbody tr th:only-of-type {\n        vertical-align: middle;\n    }\n\n    .dataframe tbody tr th {\n        vertical-align: top;\n    }\n\n    .dataframe thead th {\n        text-align: right;\n    }\n</style>\n<table border=\"1\" class=\"dataframe\">\n  <thead>\n    <tr style=\"text-align: right;\">\n      <th></th>\n      <th>Total Count</th>\n      <th>Percentage of Players</th>\n    </tr>\n    <tr>\n      <th>Gender</th>\n      <th></th>\n      <th></th>\n    </tr>\n  </thead>\n  <tbody>\n    <tr>\n      <th>Male</th>\n      <td>484</td>\n      <td>84.03%</td>\n    </tr>\n    <tr>\n      <th>Female</th>\n      <td>81</td>\n      <td>14.06%</td>\n    </tr>\n    <tr>\n      <th>Other / Non-Disclosed</th>\n      <td>11</td>\n      <td>1.91%</td>\n    </tr>\n  </tbody>\n</table>\n</div>"
     },
     "metadata": {},
     "execution_count": 6
    }
   ],
   "source": [
    "# gender demographics\n",
    "\n",
    "unique_players = df.drop_duplicates([\"SN\"])\n",
    "# gender[\"Gender\"].value_counts()\n",
    "\n",
    "# individual gender values\n",
    "count_male = len(unique_players.loc[unique_players[\"Gender\"] == \"Male\"])\n",
    "count_female = len(unique_players.loc[unique_players[\"Gender\"] == \"Female\"])\n",
    "count_other = len(unique_players.loc[unique_players[\"Gender\"] == \"Other / Non-Disclosed\"])\n",
    "\n",
    "# summary table, calcluating % using totalplayers from above\n",
    "summary_gender = pd.DataFrame({\n",
    "    \"Gender\": [\"Male\", \"Female\", \"Other / Non-Disclosed\"],\n",
    "    \"Total Count\": [count_male, count_female, count_other],\n",
    "    \"Percentage of Players\": [(count_male / totalplayers), (count_female / totalplayers), (count_other / totalplayers)]\n",
    "})\n",
    "\n",
    "# re-mapping that column as 2dp %\n",
    "summary_gender[\"Percentage of Players\"] = summary_gender[\"Percentage of Players\"].map(\"{:.2%}\".format)\n",
    "\n",
    "# setting gender as index\n",
    "summary_gender = summary_gender.set_index(\"Gender\")\n",
    "summary_gender"
   ]
  },
  {
   "cell_type": "code",
   "execution_count": 7,
   "metadata": {},
   "outputs": [
    {
     "output_type": "execute_result",
     "data": {
      "text/plain": [
       "                       Purchase Count Average Purchase Price  \\\n",
       "Gender                                                         \n",
       "Female                            113                  $3.20   \n",
       "Male                              652                  $3.02   \n",
       "Other / Non-Disclosed              15                  $3.35   \n",
       "\n",
       "                      Total Purchase Value Avg Total Purchase per Person  \n",
       "Gender                                                                    \n",
       "Female                             $361.94                         $4.47  \n",
       "Male                             $1,967.64                         $4.07  \n",
       "Other / Non-Disclosed               $50.19                         $4.56  "
      ],
      "text/html": "<div>\n<style scoped>\n    .dataframe tbody tr th:only-of-type {\n        vertical-align: middle;\n    }\n\n    .dataframe tbody tr th {\n        vertical-align: top;\n    }\n\n    .dataframe thead th {\n        text-align: right;\n    }\n</style>\n<table border=\"1\" class=\"dataframe\">\n  <thead>\n    <tr style=\"text-align: right;\">\n      <th></th>\n      <th>Purchase Count</th>\n      <th>Average Purchase Price</th>\n      <th>Total Purchase Value</th>\n      <th>Avg Total Purchase per Person</th>\n    </tr>\n    <tr>\n      <th>Gender</th>\n      <th></th>\n      <th></th>\n      <th></th>\n      <th></th>\n    </tr>\n  </thead>\n  <tbody>\n    <tr>\n      <th>Female</th>\n      <td>113</td>\n      <td>$3.20</td>\n      <td>$361.94</td>\n      <td>$4.47</td>\n    </tr>\n    <tr>\n      <th>Male</th>\n      <td>652</td>\n      <td>$3.02</td>\n      <td>$1,967.64</td>\n      <td>$4.07</td>\n    </tr>\n    <tr>\n      <th>Other / Non-Disclosed</th>\n      <td>15</td>\n      <td>$3.35</td>\n      <td>$50.19</td>\n      <td>$4.56</td>\n    </tr>\n  </tbody>\n</table>\n</div>"
     },
     "metadata": {},
     "execution_count": 7
    }
   ],
   "source": [
    "# purchase stats by gender\n",
    "\n",
    "# value variables. example of expanded: df.loc[df[\"Gender\"] == \"Male\"][\"Price\"].sum()\n",
    "male = df.loc[df[\"Gender\"] == \"Male\"]\n",
    "female = df.loc[df[\"Gender\"] == \"Female\"]\n",
    "other = df.loc[df[\"Gender\"] == \"Other / Non-Disclosed\"]\n",
    "\n",
    "summary_genbuy = pd.DataFrame({\n",
    "    \"Gender\": [\"Female\", \"Male\", \"Other / Non-Disclosed\"],\n",
    "    \"Purchase Count\": [len(female), len(male), len(other)],\n",
    "    \"Average Purchase Price\": [female[\"Price\"].mean(), male[\"Price\"].mean(), other[\"Price\"].mean()],\n",
    "    \"Total Purchase Value\": [female[\"Price\"].sum(), male[\"Price\"].sum(), other[\"Price\"].sum()],\n",
    "    \"Avg Total Purchase per Person\": [female[\"Price\"].sum() / count_female, male[\"Price\"].sum() / count_male, other[\"Price\"].sum() / count_other]\n",
    "})\n",
    "\n",
    "# map $ to money values\n",
    "summary_genbuy[\"Average Purchase Price\"] = summary_genbuy[\"Average Purchase Price\"].map(\"${:.2f}\".format)\n",
    "summary_genbuy[\"Total Purchase Value\"] = summary_genbuy[\"Total Purchase Value\"].map(\"${:,.2f}\".format)\n",
    "summary_genbuy[\"Avg Total Purchase per Person\"] = summary_genbuy[\"Avg Total Purchase per Person\"].map(\"${:.2f}\".format)\n",
    "\n",
    "# set gender as index\n",
    "summary_genbuy = summary_genbuy.set_index(\"Gender\")\n",
    "\n",
    "summary_genbuy"
   ]
  },
  {
   "cell_type": "code",
   "execution_count": 8,
   "metadata": {},
   "outputs": [
    {
     "output_type": "stream",
     "name": "stderr",
     "text": [
      "<ipython-input-8-a17c3efb2aa5>:6: SettingWithCopyWarning: \nA value is trying to be set on a copy of a slice from a DataFrame.\nTry using .loc[row_indexer,col_indexer] = value instead\n\nSee the caveats in the documentation: https://pandas.pydata.org/pandas-docs/stable/user_guide/indexing.html#returning-a-view-versus-a-copy\n  unique_players[\"Age Group\"] = pd.cut(unique_players[\"Age\"], agebins, labels=agebinlabels, include_lowest=True)\n"
     ]
    },
    {
     "output_type": "execute_result",
     "data": {
      "text/plain": [
       "           Total Count Percentage of Players\n",
       "Age Group                                   \n",
       "<10                 17                 2.95%\n",
       "10-14               22                 3.82%\n",
       "15-19              107                18.58%\n",
       "20-24              258                44.79%\n",
       "25-29               77                13.37%\n",
       "30-34               52                 9.03%\n",
       "35-39               31                 5.38%\n",
       "40+                 12                 2.08%"
      ],
      "text/html": "<div>\n<style scoped>\n    .dataframe tbody tr th:only-of-type {\n        vertical-align: middle;\n    }\n\n    .dataframe tbody tr th {\n        vertical-align: top;\n    }\n\n    .dataframe thead th {\n        text-align: right;\n    }\n</style>\n<table border=\"1\" class=\"dataframe\">\n  <thead>\n    <tr style=\"text-align: right;\">\n      <th></th>\n      <th>Total Count</th>\n      <th>Percentage of Players</th>\n    </tr>\n    <tr>\n      <th>Age Group</th>\n      <th></th>\n      <th></th>\n    </tr>\n  </thead>\n  <tbody>\n    <tr>\n      <th>&lt;10</th>\n      <td>17</td>\n      <td>2.95%</td>\n    </tr>\n    <tr>\n      <th>10-14</th>\n      <td>22</td>\n      <td>3.82%</td>\n    </tr>\n    <tr>\n      <th>15-19</th>\n      <td>107</td>\n      <td>18.58%</td>\n    </tr>\n    <tr>\n      <th>20-24</th>\n      <td>258</td>\n      <td>44.79%</td>\n    </tr>\n    <tr>\n      <th>25-29</th>\n      <td>77</td>\n      <td>13.37%</td>\n    </tr>\n    <tr>\n      <th>30-34</th>\n      <td>52</td>\n      <td>9.03%</td>\n    </tr>\n    <tr>\n      <th>35-39</th>\n      <td>31</td>\n      <td>5.38%</td>\n    </tr>\n    <tr>\n      <th>40+</th>\n      <td>12</td>\n      <td>2.08%</td>\n    </tr>\n  </tbody>\n</table>\n</div>"
     },
     "metadata": {},
     "execution_count": 8
    }
   ],
   "source": [
    "# age bins\n",
    "\n",
    "agebins = [0, 9.9, 14.9, 19.9, 24.9, 29.9, 34.9, 39.9, 100]\n",
    "agebinlabels = [\"<10\", \"10-14\", \"15-19\", \"20-24\", \"25-29\", \"30-34\", \"35-39\", \"40+\"]\n",
    "\n",
    "unique_players[\"Age Group\"] = pd.cut(unique_players[\"Age\"], agebins, labels=agebinlabels, include_lowest=True)\n",
    "summary_age_table = unique_players.groupby(\"Age Group\").count()\n",
    "summary_age_table\n",
    "\n",
    "# make df of it\n",
    "summary_age = summary_age_table[[\"Purchase ID\"]]\n",
    "summary_age = summary_age.rename(columns={\"Purchase ID\":\"Total Count\"})\n",
    "\n",
    "# add % column, format it\n",
    "summary_age[\"Percentage of Players\"] = summary_age[\"Total Count\"] / summary_age[\"Total Count\"].sum()\n",
    "summary_age[\"Percentage of Players\"] = summary_age[\"Percentage of Players\"].map(\"{:.2%}\".format)\n",
    "summary_age\n"
   ]
  },
  {
   "cell_type": "code",
   "execution_count": 9,
   "metadata": {},
   "outputs": [],
   "source": [
    "# purchase stats by age\n",
    "# bin ages onto main df instead of uniques\n",
    "\n",
    "df[\"Age Ranges\"] = pd.cut(df[\"Age\"], agebins, labels=agebinlabels, include_lowest=True)\n",
    "# df.head()"
   ]
  },
  {
   "cell_type": "code",
   "execution_count": 10,
   "metadata": {},
   "outputs": [
    {
     "output_type": "execute_result",
     "data": {
      "text/plain": [
       "            Purchase Count Average Purchase Price Total Purchase Value  \\\n",
       "Age Ranges                                                               \n",
       "<10                     23                  $3.35               $77.13   \n",
       "10-14                   28                  $2.96               $82.78   \n",
       "15-19                  136                  $3.04              $412.89   \n",
       "20-24                  365                  $3.05            $1,114.06   \n",
       "25-29                  101                  $2.90              $293.00   \n",
       "30-34                   73                  $2.93              $214.00   \n",
       "35-39                   41                  $3.60              $147.67   \n",
       "40+                     13                  $2.94               $38.24   \n",
       "\n",
       "           Avg Total Purchase per Person  \n",
       "Age Ranges                                \n",
       "<10                                $4.54  \n",
       "10-14                              $3.76  \n",
       "15-19                              $3.86  \n",
       "20-24                              $4.32  \n",
       "25-29                              $3.81  \n",
       "30-34                              $4.12  \n",
       "35-39                              $4.76  \n",
       "40+                                $3.19  "
      ],
      "text/html": "<div>\n<style scoped>\n    .dataframe tbody tr th:only-of-type {\n        vertical-align: middle;\n    }\n\n    .dataframe tbody tr th {\n        vertical-align: top;\n    }\n\n    .dataframe thead th {\n        text-align: right;\n    }\n</style>\n<table border=\"1\" class=\"dataframe\">\n  <thead>\n    <tr style=\"text-align: right;\">\n      <th></th>\n      <th>Purchase Count</th>\n      <th>Average Purchase Price</th>\n      <th>Total Purchase Value</th>\n      <th>Avg Total Purchase per Person</th>\n    </tr>\n    <tr>\n      <th>Age Ranges</th>\n      <th></th>\n      <th></th>\n      <th></th>\n      <th></th>\n    </tr>\n  </thead>\n  <tbody>\n    <tr>\n      <th>&lt;10</th>\n      <td>23</td>\n      <td>$3.35</td>\n      <td>$77.13</td>\n      <td>$4.54</td>\n    </tr>\n    <tr>\n      <th>10-14</th>\n      <td>28</td>\n      <td>$2.96</td>\n      <td>$82.78</td>\n      <td>$3.76</td>\n    </tr>\n    <tr>\n      <th>15-19</th>\n      <td>136</td>\n      <td>$3.04</td>\n      <td>$412.89</td>\n      <td>$3.86</td>\n    </tr>\n    <tr>\n      <th>20-24</th>\n      <td>365</td>\n      <td>$3.05</td>\n      <td>$1,114.06</td>\n      <td>$4.32</td>\n    </tr>\n    <tr>\n      <th>25-29</th>\n      <td>101</td>\n      <td>$2.90</td>\n      <td>$293.00</td>\n      <td>$3.81</td>\n    </tr>\n    <tr>\n      <th>30-34</th>\n      <td>73</td>\n      <td>$2.93</td>\n      <td>$214.00</td>\n      <td>$4.12</td>\n    </tr>\n    <tr>\n      <th>35-39</th>\n      <td>41</td>\n      <td>$3.60</td>\n      <td>$147.67</td>\n      <td>$4.76</td>\n    </tr>\n    <tr>\n      <th>40+</th>\n      <td>13</td>\n      <td>$2.94</td>\n      <td>$38.24</td>\n      <td>$3.19</td>\n    </tr>\n  </tbody>\n</table>\n</div>"
     },
     "metadata": {},
     "execution_count": 10
    }
   ],
   "source": [
    "summary_agebuy = pd.DataFrame({\n",
    "    \"Age Ranges\": [x for x in agebinlabels],\n",
    "    \"Purchase Count\": [len(df.loc[df[\"Age Ranges\"] == x]) for x in agebinlabels],\n",
    "    \"Average Purchase Price\": [df.loc[df[\"Age Ranges\"] == x][\"Price\"].mean() for x in agebinlabels],\n",
    "    \"Total Purchase Value\": [df.loc[df[\"Age Ranges\"] == x][\"Price\"].sum() for x in agebinlabels],\n",
    "    \"Avg Total Purchase per Person\": [df.loc[df[\"Age Ranges\"] == x][\"Price\"].sum() / len(unique_players.loc[unique_players[\"Age Group\"] == x]) for x in agebinlabels]\n",
    "})\n",
    "\n",
    "# format $\n",
    "summary_agebuy[\"Average Purchase Price\"] = summary_agebuy[\"Average Purchase Price\"].map(\"${:.2f}\".format)\n",
    "summary_agebuy[\"Total Purchase Value\"] = summary_agebuy[\"Total Purchase Value\"].map(\"${:,.2f}\".format)\n",
    "summary_agebuy[\"Avg Total Purchase per Person\"] = summary_agebuy[\"Avg Total Purchase per Person\"].map(\"${:.2f}\".format)\n",
    "\n",
    "# set index to age\n",
    "summary_agebuy = summary_agebuy.set_index([\"Age Ranges\"])\n",
    "\n",
    "summary_agebuy"
   ]
  },
  {
   "cell_type": "code",
   "execution_count": 11,
   "metadata": {},
   "outputs": [
    {
     "output_type": "execute_result",
     "data": {
      "text/plain": [
       "             Purchase Count Average Purchase Price Total Purchase Value\n",
       "SN                                                                     \n",
       "Lisosia93                 5                  $3.79               $18.96\n",
       "Idastidru52               4                  $3.86               $15.45\n",
       "Chamjask73                3                  $4.61               $13.83\n",
       "Iral74                    4                  $3.40               $13.62\n",
       "Iskadarya95               3                  $4.37               $13.10"
      ],
      "text/html": "<div>\n<style scoped>\n    .dataframe tbody tr th:only-of-type {\n        vertical-align: middle;\n    }\n\n    .dataframe tbody tr th {\n        vertical-align: top;\n    }\n\n    .dataframe thead th {\n        text-align: right;\n    }\n</style>\n<table border=\"1\" class=\"dataframe\">\n  <thead>\n    <tr style=\"text-align: right;\">\n      <th></th>\n      <th>Purchase Count</th>\n      <th>Average Purchase Price</th>\n      <th>Total Purchase Value</th>\n    </tr>\n    <tr>\n      <th>SN</th>\n      <th></th>\n      <th></th>\n      <th></th>\n    </tr>\n  </thead>\n  <tbody>\n    <tr>\n      <th>Lisosia93</th>\n      <td>5</td>\n      <td>$3.79</td>\n      <td>$18.96</td>\n    </tr>\n    <tr>\n      <th>Idastidru52</th>\n      <td>4</td>\n      <td>$3.86</td>\n      <td>$15.45</td>\n    </tr>\n    <tr>\n      <th>Chamjask73</th>\n      <td>3</td>\n      <td>$4.61</td>\n      <td>$13.83</td>\n    </tr>\n    <tr>\n      <th>Iral74</th>\n      <td>4</td>\n      <td>$3.40</td>\n      <td>$13.62</td>\n    </tr>\n    <tr>\n      <th>Iskadarya95</th>\n      <td>3</td>\n      <td>$4.37</td>\n      <td>$13.10</td>\n    </tr>\n  </tbody>\n</table>\n</div>"
     },
     "metadata": {},
     "execution_count": 11
    }
   ],
   "source": [
    "# big spenders\n",
    "\n",
    "playerlist = unique_players[\"SN\"]\n",
    "\n",
    "summary_bigspenders = pd.DataFrame({\n",
    "    \"SN\": [x for x in playerlist],\n",
    "    \"Purchase Count\": [len(df.loc[df[\"SN\"] == x]) for x in playerlist],\n",
    "    \"Average Purchase Price\": [df.loc[df[\"SN\"] == x][\"Price\"].mean() for x in playerlist],\n",
    "    \"Total Purchase Value\": [df.loc[df[\"SN\"] == x][\"Price\"].sum() for x in playerlist],\n",
    "})\n",
    "\n",
    "# set index\n",
    "summary_bigspenders = summary_bigspenders.set_index([\"SN\"])\n",
    "\n",
    "# sort by total purchase value, need to redefine to keep this way\n",
    "summary_bigspenders = summary_bigspenders.sort_values([\"Total Purchase Value\"], ascending=False)\n",
    "\n",
    "# now we can reformat $\n",
    "summary_bigspenders[\"Average Purchase Price\"] = summary_bigspenders[\"Average Purchase Price\"].map(\"${:.2f}\".format)\n",
    "summary_bigspenders[\"Total Purchase Value\"] = summary_bigspenders[\"Total Purchase Value\"].map(\"${:.2f}\".format)\n",
    "\n",
    "# get top 5 values\n",
    "summary_bigspenders.head()"
   ]
  },
  {
   "cell_type": "code",
   "execution_count": 16,
   "metadata": {},
   "outputs": [
    {
     "output_type": "execute_result",
     "data": {
      "text/plain": [
       "                                                      Purchase Count  \\\n",
       "Item ID Item Name                                                      \n",
       "92      Final Critic                                              13   \n",
       "178     Oathbreaker, Last Hope of the Breaking Storm              12   \n",
       "108     Extraction, Quickblade Of Trembling Hands                  9   \n",
       "82      Nirvana                                                    9   \n",
       "145     Fiery Glass Crusader                                       9   \n",
       "\n",
       "                                                     Item Price  \\\n",
       "Item ID Item Name                                                 \n",
       "92      Final Critic                                      $4.61   \n",
       "178     Oathbreaker, Last Hope of the Breaking Storm      $4.23   \n",
       "108     Extraction, Quickblade Of Trembling Hands         $3.53   \n",
       "82      Nirvana                                           $4.90   \n",
       "145     Fiery Glass Crusader                              $4.58   \n",
       "\n",
       "                                                     Total Purchase Value  \n",
       "Item ID Item Name                                                          \n",
       "92      Final Critic                                               $59.99  \n",
       "178     Oathbreaker, Last Hope of the Breaking Storm               $50.76  \n",
       "108     Extraction, Quickblade Of Trembling Hands                  $31.77  \n",
       "82      Nirvana                                                    $44.10  \n",
       "145     Fiery Glass Crusader                                       $41.22  "
      ],
      "text/html": "<div>\n<style scoped>\n    .dataframe tbody tr th:only-of-type {\n        vertical-align: middle;\n    }\n\n    .dataframe tbody tr th {\n        vertical-align: top;\n    }\n\n    .dataframe thead th {\n        text-align: right;\n    }\n</style>\n<table border=\"1\" class=\"dataframe\">\n  <thead>\n    <tr style=\"text-align: right;\">\n      <th></th>\n      <th></th>\n      <th>Purchase Count</th>\n      <th>Item Price</th>\n      <th>Total Purchase Value</th>\n    </tr>\n    <tr>\n      <th>Item ID</th>\n      <th>Item Name</th>\n      <th></th>\n      <th></th>\n      <th></th>\n    </tr>\n  </thead>\n  <tbody>\n    <tr>\n      <th>92</th>\n      <th>Final Critic</th>\n      <td>13</td>\n      <td>$4.61</td>\n      <td>$59.99</td>\n    </tr>\n    <tr>\n      <th>178</th>\n      <th>Oathbreaker, Last Hope of the Breaking Storm</th>\n      <td>12</td>\n      <td>$4.23</td>\n      <td>$50.76</td>\n    </tr>\n    <tr>\n      <th>108</th>\n      <th>Extraction, Quickblade Of Trembling Hands</th>\n      <td>9</td>\n      <td>$3.53</td>\n      <td>$31.77</td>\n    </tr>\n    <tr>\n      <th>82</th>\n      <th>Nirvana</th>\n      <td>9</td>\n      <td>$4.90</td>\n      <td>$44.10</td>\n    </tr>\n    <tr>\n      <th>145</th>\n      <th>Fiery Glass Crusader</th>\n      <td>9</td>\n      <td>$4.58</td>\n      <td>$41.22</td>\n    </tr>\n  </tbody>\n</table>\n</div>"
     },
     "metadata": {},
     "execution_count": 16
    }
   ],
   "source": [
    "# popular items\n",
    "\n",
    "itemidlist = df.drop_duplicates([\"Item Name\"])[\"Item ID\"]\n",
    "itemlist = df.drop_duplicates([\"Item Name\"])[\"Item Name\"]\n",
    "\n",
    "summary_items = pd.DataFrame({\n",
    "    \"Item ID\": [x for x in itemidlist],\n",
    "    \"Item Name\": [x for x in itemlist],\n",
    "    \"Purchase Count\": [len(df.loc[df[\"Item Name\"] == x]) for x in itemlist],\n",
    "    \"Item Price\": [df.loc[df[\"Item Name\"] == x][\"Price\"].mean() for x in itemlist],\n",
    "    \"Total Purchase Value\": [df.loc[df[\"Item Name\"] == x][\"Price\"].sum() for x in itemlist]\n",
    "})\n",
    "\n",
    "# set index\n",
    "summary_items = summary_items.set_index([\"Item ID\", \"Item Name\"])\n",
    "\n",
    "# sort by purchase count (descending). set as new variable so the same (unmodified) table above can be used in the next section\n",
    "summary_items_purchase = summary_items.sort_values([\"Purchase Count\"], ascending=False)\n",
    "\n",
    "# format\n",
    "summary_items_purchase[\"Item Price\"] = summary_items_purchase[\"Item Price\"].map(\"${:.2f}\".format)\n",
    "summary_items_purchase[\"Total Purchase Value\"] = summary_items_purchase[\"Total Purchase Value\"].map(\"${:.2f}\".format)\n",
    "\n",
    "# top 5 values\n",
    "summary_items_purchase.head()"
   ]
  },
  {
   "cell_type": "code",
   "execution_count": 17,
   "metadata": {},
   "outputs": [
    {
     "output_type": "execute_result",
     "data": {
      "text/plain": [
       "                                                      Purchase Count  \\\n",
       "Item ID Item Name                                                      \n",
       "92      Final Critic                                              13   \n",
       "178     Oathbreaker, Last Hope of the Breaking Storm              12   \n",
       "82      Nirvana                                                    9   \n",
       "145     Fiery Glass Crusader                                       9   \n",
       "103     Singed Scalpel                                             8   \n",
       "\n",
       "                                                     Item Price  \\\n",
       "Item ID Item Name                                                 \n",
       "92      Final Critic                                      $4.61   \n",
       "178     Oathbreaker, Last Hope of the Breaking Storm      $4.23   \n",
       "82      Nirvana                                           $4.90   \n",
       "145     Fiery Glass Crusader                              $4.58   \n",
       "103     Singed Scalpel                                    $4.35   \n",
       "\n",
       "                                                     Total Purchase Value  \n",
       "Item ID Item Name                                                          \n",
       "92      Final Critic                                               $59.99  \n",
       "178     Oathbreaker, Last Hope of the Breaking Storm               $50.76  \n",
       "82      Nirvana                                                    $44.10  \n",
       "145     Fiery Glass Crusader                                       $41.22  \n",
       "103     Singed Scalpel                                             $34.80  "
      ],
      "text/html": "<div>\n<style scoped>\n    .dataframe tbody tr th:only-of-type {\n        vertical-align: middle;\n    }\n\n    .dataframe tbody tr th {\n        vertical-align: top;\n    }\n\n    .dataframe thead th {\n        text-align: right;\n    }\n</style>\n<table border=\"1\" class=\"dataframe\">\n  <thead>\n    <tr style=\"text-align: right;\">\n      <th></th>\n      <th></th>\n      <th>Purchase Count</th>\n      <th>Item Price</th>\n      <th>Total Purchase Value</th>\n    </tr>\n    <tr>\n      <th>Item ID</th>\n      <th>Item Name</th>\n      <th></th>\n      <th></th>\n      <th></th>\n    </tr>\n  </thead>\n  <tbody>\n    <tr>\n      <th>92</th>\n      <th>Final Critic</th>\n      <td>13</td>\n      <td>$4.61</td>\n      <td>$59.99</td>\n    </tr>\n    <tr>\n      <th>178</th>\n      <th>Oathbreaker, Last Hope of the Breaking Storm</th>\n      <td>12</td>\n      <td>$4.23</td>\n      <td>$50.76</td>\n    </tr>\n    <tr>\n      <th>82</th>\n      <th>Nirvana</th>\n      <td>9</td>\n      <td>$4.90</td>\n      <td>$44.10</td>\n    </tr>\n    <tr>\n      <th>145</th>\n      <th>Fiery Glass Crusader</th>\n      <td>9</td>\n      <td>$4.58</td>\n      <td>$41.22</td>\n    </tr>\n    <tr>\n      <th>103</th>\n      <th>Singed Scalpel</th>\n      <td>8</td>\n      <td>$4.35</td>\n      <td>$34.80</td>\n    </tr>\n  </tbody>\n</table>\n</div>"
     },
     "metadata": {},
     "execution_count": 17
    }
   ],
   "source": [
    "# profitable items\n",
    "\n",
    "# yoink table from above and sort by total purchase value\n",
    "summary_items_value = summary_items.sort_values([\"Total Purchase Value\"], ascending=False)\n",
    "\n",
    "# format\n",
    "summary_items_value[\"Item Price\"] = summary_items_value[\"Item Price\"].map(\"${:.2f}\".format)\n",
    "summary_items_value[\"Total Purchase Value\"] = summary_items_value[\"Total Purchase Value\"].map(\"${:.2f}\".format)\n",
    "\n",
    "# top 5 values\n",
    "summary_items_value.head()"
   ]
  },
  {
   "source": [
    "# Summary Report\n",
    "\n",
    "One thing to note is that this is a dataset of total purchases, and not total players; there are no gender/age demographics for players who are not making any in-game transactions at all, which may deliver different results. If we’re getting into specifics, there is also no data for the player level/time played for each account, nor the stats/levels of the items themselves.\n",
    "\n",
    "Female and non-binary/unspecified players, while making up a smaller portion of the playerbase, tend to spend more on average than their male counterparts (both by average purchase price and average total purchase per person). Females also make more purchases relative to their playerbase proportion – making 14.49% of all total purchases while representing 14.06% of the playerbase.\n",
    "\n",
    "20-24 years of age is the largest demographic of players, and the numbers fall off sharply after that. It seems to be the sweet spot between having the money to afford access to a computer good enough to run the game, and having enough free time to actually play it (before the onset of responsibilities like full time work, building a family etc). The content of the game is likely also targeted at this demographic for the above reasons.\n",
    "When looking at the most popular items to buy, the top of the table is filled with a combination of cheap ($1-2) and expensive ($4-5) items. For items that were purchased 7 or more times, 14/23 of these fell into the above categories. The price is likely associated with the strength of the item, so the majority of the purchasing is done by new players looking to upgrade their lowly starter items, and veteran players approaching end-game content and desiring the best items available."
   ],
   "cell_type": "markdown",
   "metadata": {}
  }
 ]
}